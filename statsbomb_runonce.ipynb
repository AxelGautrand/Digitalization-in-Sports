{
  "nbformat": 4,
  "nbformat_minor": 0,
  "metadata": {
    "colab": {
      "provenance": [],
      "collapsed_sections": [],
      "authorship_tag": "ABX9TyM8SkntEXrIgoKH6/75omCc",
      "include_colab_link": true
    },
    "kernelspec": {
      "name": "python3",
      "display_name": "Python 3"
    },
    "language_info": {
      "name": "python"
    }
  },
  "cells": [
    {
      "cell_type": "markdown",
      "metadata": {
        "id": "view-in-github",
        "colab_type": "text"
      },
      "source": [
        "<a href=\"https://colab.research.google.com/github/AxelGautrand/Digitalization-in-Sports/blob/main/statsbomb_runonce.ipynb\" target=\"_parent\"><img src=\"https://colab.research.google.com/assets/colab-badge.svg\" alt=\"Open In Colab\"/></a>"
      ]
    },
    {
      "cell_type": "code",
      "execution_count": null,
      "metadata": {
        "colab": {
          "base_uri": "https://localhost:8080/"
        },
        "id": "5AG2izmOY8mO",
        "outputId": "15795e8e-d705-4997-e5d8-a3b2f9b94a9c"
      },
      "outputs": [
        {
          "output_type": "stream",
          "name": "stdout",
          "text": [
            "Mounted at /content/drive\n"
          ]
        }
      ],
      "source": [
        "from google.colab import drive\n",
        "drive.mount('/content/drive')"
      ]
    },
    {
      "cell_type": "code",
      "source": [
        "from IPython.display import clear_output"
      ],
      "metadata": {
        "id": "wEIVAW5NZ3Gw"
      },
      "execution_count": null,
      "outputs": []
    },
    {
      "cell_type": "code",
      "source": [
        "# Uncomment these lines (only once)\n",
        "#%cd drive/My\\ Drive/DIS/Clone\n",
        "#!git clone https://github.com/statsbomb/open-data.git"
      ],
      "metadata": {
        "id": "dMME_WoHaEbv"
      },
      "execution_count": null,
      "outputs": []
    },
    {
      "cell_type": "code",
      "source": [
        "!pip install statsbombpy\n",
        "clear_output()"
      ],
      "metadata": {
        "id": "uMcu2Q0AaHPH"
      },
      "execution_count": null,
      "outputs": []
    },
    {
      "cell_type": "code",
      "source": [
        "!pip install mplsoccer\n",
        "clear_output()"
      ],
      "metadata": {
        "id": "0knEfJYWTGXo"
      },
      "execution_count": null,
      "outputs": []
    },
    {
      "cell_type": "code",
      "source": [
        "dataset = \"/content/drive/My Drive/DIS/Colab/open-data/data/\""
      ],
      "metadata": {
        "id": "XmM3rsadaJm_"
      },
      "execution_count": null,
      "outputs": []
    },
    {
      "cell_type": "code",
      "source": [
        "from statsbombpy import sb\n",
        "import pandas as pd\n",
        "import json\n",
        "import os\n",
        "import numpy as np\n",
        "import pandas as pd\n",
        "import matplotlib.pyplot as plt\n",
        "from matplotlib.patches import Arc\n",
        "from matplotlib.patches import Ellipse\n",
        "from matplotlib.colorbar import constrained_layout\n",
        "import matplotlib.patheffects as path_effects\n",
        "from mplsoccer.pitch import Pitch\n",
        "from shapely.geometry import Polygon as shapelyPolygon\n",
        "from scipy.stats import norm"
      ],
      "metadata": {
        "id": "i1nBzwmbaL33"
      },
      "execution_count": null,
      "outputs": []
    },
    {
      "cell_type": "code",
      "source": [
        "def createPitch(length,width, unity,linecolor): # in meters\n",
        "    # Code by @JPJ_dejong\n",
        "\n",
        "    \"\"\"\n",
        "    creates a plot in which the 'length' is the length of the pitch (goal to goal).\n",
        "    And 'width' is the width of the pitch (sideline to sideline). \n",
        "    Fill in the unity in meters or in yards.\n",
        "    \"\"\"\n",
        "    #Set unity\n",
        "    if unity == \"meters\":\n",
        "        # Set boundaries\n",
        "        if length >= 120.5 or width >= 75.5:\n",
        "            return(str(\"Field dimensions are too big for meters as unity, didn't you mean yards as unity?\\\n",
        "                       Otherwise the maximum length is 120 meters and the maximum width is 75 meters. Please try again\"))\n",
        "        #Run program if unity and boundaries are accepted\n",
        "        else:\n",
        "            #Create figure\n",
        "            fig=plt.figure()\n",
        "            #fig.set_size_inches(7, 5)\n",
        "            ax=fig.add_subplot(1,1,1)\n",
        "           \n",
        "            #Pitch Outline & Centre Line\n",
        "            plt.plot([0,0],[0,width], color=linecolor)\n",
        "            plt.plot([0,length],[width,width], color=linecolor)\n",
        "            plt.plot([length,length],[width,0], color=linecolor)\n",
        "            plt.plot([length,0],[0,0], color=linecolor)\n",
        "            plt.plot([length/2,length/2],[0,width], color=linecolor)\n",
        "            \n",
        "            #Left Penalty Area\n",
        "            plt.plot([16.5 ,16.5],[(width/2 +16.5),(width/2-16.5)],color=linecolor)\n",
        "            plt.plot([0,16.5],[(width/2 +16.5),(width/2 +16.5)],color=linecolor)\n",
        "            plt.plot([16.5,0],[(width/2 -16.5),(width/2 -16.5)],color=linecolor)\n",
        "            \n",
        "            #Right Penalty Area\n",
        "            plt.plot([(length-16.5),length],[(width/2 +16.5),(width/2 +16.5)],color=linecolor)\n",
        "            plt.plot([(length-16.5), (length-16.5)],[(width/2 +16.5),(width/2-16.5)],color=linecolor)\n",
        "            plt.plot([(length-16.5),length],[(width/2 -16.5),(width/2 -16.5)],color=linecolor)\n",
        "            \n",
        "            #Left 5-meters Box\n",
        "            plt.plot([0,5.5],[(width/2+7.32/2+5.5),(width/2+7.32/2+5.5)],color=linecolor)\n",
        "            plt.plot([5.5,5.5],[(width/2+7.32/2+5.5),(width/2-7.32/2-5.5)],color=linecolor)\n",
        "            plt.plot([5.5,0.5],[(width/2-7.32/2-5.5),(width/2-7.32/2-5.5)],color=linecolor)\n",
        "            \n",
        "            #Right 5 -eters Box\n",
        "            plt.plot([length,length-5.5],[(width/2+7.32/2+5.5),(width/2+7.32/2+5.5)],color=linecolor)\n",
        "            plt.plot([length-5.5,length-5.5],[(width/2+7.32/2+5.5),width/2-7.32/2-5.5],color=linecolor)\n",
        "            plt.plot([length-5.5,length],[width/2-7.32/2-5.5,width/2-7.32/2-5.5],color=linecolor)\n",
        "            \n",
        "            #Prepare Circles\n",
        "            centreCircle = plt.Circle((length/2,width/2),9.15,color=linecolor,fill=False)\n",
        "            centreSpot = plt.Circle((length/2,width/2),0.8,color=linecolor)\n",
        "            leftPenSpot = plt.Circle((11,width/2),0.8,color=linecolor)\n",
        "            rightPenSpot = plt.Circle((length-11,width/2),0.8,color=linecolor)\n",
        "            \n",
        "            #Draw Circles\n",
        "            ax.add_patch(centreCircle)\n",
        "            ax.add_patch(centreSpot)\n",
        "            ax.add_patch(leftPenSpot)\n",
        "            ax.add_patch(rightPenSpot)\n",
        "            \n",
        "            #Prepare Arcs\n",
        "            leftArc = Arc((11,width/2),height=18.3,width=18.3,angle=0,theta1=308,theta2=52,color=linecolor)\n",
        "            rightArc = Arc((length-11,width/2),height=18.3,width=18.3,angle=0,theta1=128,theta2=232,color=linecolor)\n",
        "            \n",
        "            #Draw Arcs\n",
        "            ax.add_patch(leftArc)\n",
        "            ax.add_patch(rightArc)\n",
        "            #Axis titles\n",
        "\n",
        "    #check unity again\n",
        "    elif unity == \"yards\":\n",
        "        #check boundaries again\n",
        "        if length <= 95:\n",
        "            return(str(\"Didn't you mean meters as unity?\"))\n",
        "        elif length >= 131 or width >= 101:\n",
        "            return(str(\"Field dimensions are too big. Maximum length is 130, maximum width is 100\"))\n",
        "        #Run program if unity and boundaries are accepted\n",
        "        else:\n",
        "            #Create figure\n",
        "            fig=plt.figure()\n",
        "            #fig.set_size_inches(7, 5)\n",
        "            ax=fig.add_subplot(1,1,1)\n",
        "           \n",
        "            #Pitch Outline & Centre Line\n",
        "            plt.plot([0,0],[0,width], color=linecolor)\n",
        "            plt.plot([0,length],[width,width], color=linecolor)\n",
        "            plt.plot([length,length],[width,0], color=linecolor)\n",
        "            plt.plot([length,0],[0,0], color=linecolor)\n",
        "            plt.plot([length/2,length/2],[0,width], color=linecolor)\n",
        "            \n",
        "            #Left Penalty Area\n",
        "            plt.plot([18 ,18],[(width/2 +18),(width/2-18)],color=linecolor)\n",
        "            plt.plot([0,18],[(width/2 +18),(width/2 +18)],color=linecolor)\n",
        "            plt.plot([18,0],[(width/2 -18),(width/2 -18)],color=linecolor)\n",
        "            \n",
        "            #Right Penalty Area\n",
        "            plt.plot([(length-18),length],[(width/2 +18),(width/2 +18)],color=linecolor)\n",
        "            plt.plot([(length-18), (length-18)],[(width/2 +18),(width/2-18)],color=linecolor)\n",
        "            plt.plot([(length-18),length],[(width/2 -18),(width/2 -18)],color=linecolor)\n",
        "            \n",
        "            #Left 6-yard Box\n",
        "            plt.plot([0,6],[(width/2+7.32/2+6),(width/2+7.32/2+6)],color=linecolor)\n",
        "            plt.plot([6,6],[(width/2+7.32/2+6),(width/2-7.32/2-6)],color=linecolor)\n",
        "            plt.plot([6,0],[(width/2-7.32/2-6),(width/2-7.32/2-6)],color=linecolor)\n",
        "            \n",
        "            #Right 6-yard Box\n",
        "            plt.plot([length,length-6],[(width/2+7.32/2+6),(width/2+7.32/2+6)],color=linecolor)\n",
        "            plt.plot([length-6,length-6],[(width/2+7.32/2+6),width/2-7.32/2-6],color=linecolor)\n",
        "            plt.plot([length-6,length],[(width/2-7.32/2-6),width/2-7.32/2-6],color=linecolor)\n",
        "            \n",
        "            #Prepare Circles; 10 yards distance. penalty on 12 yards\n",
        "            centreCircle = plt.Circle((length/2,width/2),10,color=linecolor,fill=False)\n",
        "            centreSpot = plt.Circle((length/2,width/2),0.8,color=linecolor)\n",
        "            leftPenSpot = plt.Circle((12,width/2),0.8,color=linecolor)\n",
        "            rightPenSpot = plt.Circle((length-12,width/2),0.8,color=linecolor)\n",
        "            \n",
        "            #Draw Circles\n",
        "            ax.add_patch(centreCircle)\n",
        "            ax.add_patch(centreSpot)\n",
        "            ax.add_patch(leftPenSpot)\n",
        "            ax.add_patch(rightPenSpot)\n",
        "            \n",
        "            #Prepare Arcs\n",
        "            leftArc = Arc((11,width/2),height=20,width=20,angle=0,theta1=312,theta2=48,color=linecolor)\n",
        "            rightArc = Arc((length-11,width/2),height=20,width=20,angle=0,theta1=130,theta2=230,color=linecolor)\n",
        "            \n",
        "            #Draw Arcs\n",
        "            ax.add_patch(leftArc)\n",
        "            ax.add_patch(rightArc)\n",
        "                \n",
        "    #Tidy Axes\n",
        "    plt.axis('off')\n",
        "    \n",
        "    return fig,ax\n"
      ],
      "metadata": {
        "id": "PS07rbF_cLbH"
      },
      "execution_count": null,
      "outputs": []
    },
    {
      "cell_type": "code",
      "source": [
        "!pwd\n",
        "writePath = \"drive/My Drive/DIS/Write\"\n",
        "%cd $writePath\n",
        "clear_output()"
      ],
      "metadata": {
        "id": "NNANgHHFaNaf"
      },
      "execution_count": null,
      "outputs": []
    },
    {
      "cell_type": "code",
      "source": [
        "class CreateEvent360():\n",
        "    def __init__(self):\n",
        "        self.competitionId = 53\n",
        "        self.seasonId = 106\n",
        "        self.fmt = \"dict\"\n",
        "        self.matchInfo = self.get_all_matches_info()\n",
        "        self.matchId = list(self.matchInfo.keys())\n",
        "        self.matchEvents = dict(zip(self.matchId, list(map(self.get_all_events_from_match, self.matchId))))\n",
        "        self.matchFrames = dict(zip(self.matchId, list(map(self.get_all_360_frames_from_match, self.matchId))))\n",
        "        self.matchEventLocations = dict(zip(self.matchId, list(map(self.get_event_id_matching_360_events, self.matchId))))\n",
        "\n",
        "        for iMatchId in self.matchId:\n",
        "            self.fill_event_frame_location_details(iMatchId)\n",
        "            self.exportJson(iMatchId)\n",
        "\n",
        "\n",
        "    def get_all_matches_info(self):\n",
        "        return sb.matches(competition_id=self.competitionId, season_id=self.seasonId, fmt=self.fmt)\n",
        "\n",
        "    def get_all_events_from_match(self, matchId):\n",
        "        return sb.events(matchId, fmt=self.fmt)\n",
        "\n",
        "    def get_all_360_frames_from_match(self, matchId):\n",
        "        return sb.frames(matchId, fmt=self.fmt)\n",
        "\n",
        "    def get_event_id_matching_360_events(self, matchId):\n",
        "        eventsIds = [self.matchFrames[matchId][iEventIndex]['event_uuid'] for iEventIndex in\n",
        "                     range(len(self.matchFrames[matchId]))]\n",
        "        #return dict(zip(eventsIds, len(eventsIds) * [{'possession': None, 'eventLoc': None, 'homeLoc': list(), 'awayLoc': list()}]))\n",
        "        return {x: {'possession': None, 'eventLoc': None, 'homeLoc': list(), 'awayLoc': list()} for x in eventsIds}\n",
        "\n",
        "    def fill_event_frame_location_details(self, matchId):\n",
        "        for iEventIndex in range(len(self.matchFrames[matchId])):\n",
        "            iEvent = self.matchFrames[matchId][iEventIndex]['event_uuid']\n",
        "            if 'location' in self.matchEvents[matchId][iEvent].keys():\n",
        "                self.matchEventLocations[matchId][iEvent]['eventLoc'] = self.matchEvents[matchId][iEvent]['location']\n",
        "            if 'period' in self.matchEvents[matchId][iEvent].keys():\n",
        "                self.matchEventLocations[matchId][iEvent]['period'] = self.matchEvents[matchId][iEvent]['period']\n",
        "            possessionId = self.matchEvents[matchId][iEvent]['possession_team']['id']\n",
        "            if possessionId == self.matchInfo[matchId]['home_team']['home_team_id']:\n",
        "                possession = 'home'\n",
        "            else:\n",
        "                possession = 'away'\n",
        "            self.matchEventLocations[matchId][iEvent]['possession'] = possession\n",
        "            for iPlayer in self.matchFrames[matchId][iEventIndex]['freeze_frame']:\n",
        "                if possession == 'home':\n",
        "                    if iPlayer['teammate']:\n",
        "                        self.matchEventLocations[matchId][iEvent]['homeLoc'].append(iPlayer['location'])\n",
        "                    else:\n",
        "                        self.matchEventLocations[matchId][iEvent]['awayLoc'].append(iPlayer['location'])\n",
        "                elif possession == 'away':\n",
        "                    if iPlayer['teammate']:\n",
        "                        self.matchEventLocations[matchId][iEvent]['awayLoc'].append(iPlayer['location'])\n",
        "                    else:\n",
        "                        self.matchEventLocations[matchId][iEvent]['awayLoc'].append(iPlayer['location'])\n",
        "                        \n",
        "    def exportJson(self, matchId):\n",
        "          fileName = str(matchId) + '.json'\n",
        "          with open(fileName, 'w') as fh:\n",
        "              json.dump(self.matchEventLocations[matchId], fh)\n",
        "          fh.close()"
      ],
      "metadata": {
        "id": "02tzEmAYaSXo"
      },
      "execution_count": null,
      "outputs": []
    },
    {
      "cell_type": "code",
      "source": [
        "event360 = CreateEvent360()\n",
        "clear_output()"
      ],
      "metadata": {
        "id": "7Wqpa0mPaY2n"
      },
      "execution_count": null,
      "outputs": []
    },
    {
      "cell_type": "code",
      "source": [
        "def loadJson(matchId):\n",
        "    filename = str(matchId) + '.json'\n",
        "    with open(filename, 'r') as fh:\n",
        "        matchData = json.load(fh)\n",
        "    fh.close()\n",
        "    return matchData"
      ],
      "metadata": {
        "id": "sZy6e_1nacvH"
      },
      "execution_count": null,
      "outputs": []
    },
    {
      "cell_type": "code",
      "source": [
        "matchdata = loadJson(3847567)"
      ],
      "metadata": {
        "id": "3eNbCLLQb6ZJ"
      },
      "execution_count": null,
      "outputs": []
    },
    {
      "cell_type": "code",
      "source": [
        "# method 1 - Home at left and away at right always\n",
        "def drawLocations(matchdata, voronoi=False, samples=-1, eventColor='black', homeColor='red', awayColor='blue'):\n",
        "    for sampleNumber, iEvent in enumerate(matchdata.keys()):\n",
        "        if sampleNumber >= samples:\n",
        "          break\n",
        "        voronoiHomeXY = list()\n",
        "        voronoiAwayXY = list()\n",
        "        (fig,ax) = createPitch(120,80,'yards','gray')\n",
        "        if len(matchdata[iEvent]['eventLoc']) > 0:\n",
        "            x = matchdata[iEvent]['eventLoc'][0]\n",
        "            y = matchdata[iEvent]['eventLoc'][1]\n",
        "            x = xComplimentPostHalf(x, matchdata[iEvent]['period'])\n",
        "            positionBall = plt.Circle((x,y),2,color=eventColor)\n",
        "            ax.add_patch(positionBall)\n",
        "\n",
        "            for i in range(len(matchdata[iEvent]['homeLoc'])):\n",
        "                x=matchdata[iEvent]['homeLoc'][i][0]\n",
        "                y=matchdata[iEvent]['homeLoc'][i][1]\n",
        "                x = xComplimentPostHalf(x, matchdata[iEvent]['period'])\n",
        "                position = plt.Circle((x,y),2,color=homeColor)\n",
        "                ax.add_patch(position)\n",
        "                voronoiHomeXY.append((x, y, 0))\n",
        "\n",
        "            for j in range(len(matchdata[iEvent]['awayLoc'])):\n",
        "                x=matchdata[iEvent]['awayLoc'][j][0]\n",
        "                y=matchdata[iEvent]['awayLoc'][j][1]\n",
        "                x = xComplimentPostHalf(x, matchdata[iEvent]['period'])\n",
        "                position = plt.Circle((x,y),2,color=awayColor)\n",
        "                ax.add_patch(position)\n",
        "                voronoiAwayXY.append((x, y, 1))\n",
        "\n",
        "        if voronoi == True:\n",
        "            voronoiDF = pd.DataFrame({'x' : [i[0] for i in voronoiHomeXY] + [i[0] for i in voronoiAwayXY], \n",
        "                                      'y' : [i[1] for i in voronoiHomeXY] + [i[1] for i in voronoiAwayXY],\n",
        "                                      'team' : [i[2] for i in voronoiHomeXY] + [i[2] for i in voronoiAwayXY]})\n",
        "\n",
        "            pitch = Pitch(pitch_type = 'statsbomb')\n",
        "            team1, team2 = pitch.voronoi(voronoiDF.x, voronoiDF.y, voronoiDF.team)\n",
        "\n",
        "            t1 = pitch.polygon(team1, ax=ax, fc='lightskyblue', ec='white', lw=3, alpha=.1)\n",
        "            t2 = pitch.polygon(team2, ax=ax, fc='lightsalmon', ec='white', lw=3, alpha=.1)\n",
        "\n",
        "            # Event location plotting again to make it visible\n",
        "            x = matchdata[iEvent]['eventLoc'][0]\n",
        "            y = matchdata[iEvent]['eventLoc'][1]\n",
        "            x = xComplimentPostHalf(x, matchdata[iEvent]['period'])\n",
        "            positionBall = plt.Circle((x,y),2,color=eventColor)\n",
        "            ax.add_patch(positionBall)\n",
        "\n",
        "        fig.set_size_inches(10, 7)\n",
        "        plt.show()\n",
        "\n",
        "def xComplimentPostHalf(x, period):\n",
        "    if period == 2:\n",
        "        x = 120-x\n",
        "    return x"
      ],
      "metadata": {
        "id": "Q_ViVhqcoZUz"
      },
      "execution_count": null,
      "outputs": []
    },
    {
      "cell_type": "code",
      "source": [
        "drawLocations(matchdata, samples=1, voronoi=True)"
      ],
      "metadata": {
        "id": "Xr6aj1TovIta"
      },
      "execution_count": null,
      "outputs": []
    },
    {
      "cell_type": "code",
      "source": [
        "def getAreasForEachEvent(matchdata, voronoi=True, numPlayersContrast=3, samples=-1, lastPlayerAsBoundary=True):\n",
        "    areaT1 = list()\n",
        "    areaT2 = list()\n",
        "    for sampleNumber, iEvent in enumerate(matchdata.keys()):\n",
        "        if samples >= sampleNumber:\n",
        "          break\n",
        "        voronoiHomeXY = list()\n",
        "        voronoiAwayXY = list()\n",
        "        if len(matchdata[iEvent]['eventLoc']) > 0 and abs(len(matchdata[iEvent]['homeLoc']) - len(matchdata[iEvent]['awayLoc'])) <= numPlayersContrast:\n",
        "            minX = 120\n",
        "            maxX = 0\n",
        "            x = matchdata[iEvent]['eventLoc'][0]\n",
        "            y = matchdata[iEvent]['eventLoc'][1]\n",
        "            x = xComplimentPostHalf(x, matchdata[iEvent]['period'])\n",
        "            minX, maxX = setMinXMaxX(minX, maxX, x, lastPlayerAsBoundary)\n",
        "\n",
        "            for i in range(len(matchdata[iEvent]['homeLoc'])):\n",
        "                x=matchdata[iEvent]['homeLoc'][i][0]\n",
        "                y=matchdata[iEvent]['homeLoc'][i][1]\n",
        "                x = xComplimentPostHalf(x, matchdata[iEvent]['period'])\n",
        "                voronoiHomeXY.append((x, y, 0))\n",
        "                minX, maxX = setMinXMaxX(minX, maxX, x, lastPlayerAsBoundary)\n",
        "\n",
        "            for j in range(len(matchdata[iEvent]['awayLoc'])):\n",
        "                x=matchdata[iEvent]['awayLoc'][j][0]\n",
        "                y=matchdata[iEvent]['awayLoc'][j][1]\n",
        "                x = xComplimentPostHalf(x, matchdata[iEvent]['period'])\n",
        "                voronoiAwayXY.append((x, y, 1))\n",
        "                minX, maxX = setMinXMaxX(minX, maxX, x, lastPlayerAsBoundary)\n",
        "\n",
        "            if voronoi == True:\n",
        "                voronoiDF = pd.DataFrame({'x' : [i[0] for i in voronoiHomeXY] + [i[0] for i in voronoiAwayXY], \n",
        "                                          'y' : [i[1] for i in voronoiHomeXY] + [i[1] for i in voronoiAwayXY],\n",
        "                                          'team' : [i[2] for i in voronoiHomeXY] + [i[2] for i in voronoiAwayXY]})\n",
        "\n",
        "                pitch = Pitch(pitch_type = 'statsbomb')\n",
        "                team1, team2 = pitch.voronoi(voronoiDF.x, voronoiDF.y, voronoiDF.team)\n",
        "\n",
        "                t1 = pitch.polygon(team1, ax=ax, fc='lightskyblue', ec='white', lw=3, alpha=.1)\n",
        "                t2 = pitch.polygon(team2, ax=ax, fc='lightsalmon', ec='white', lw=3, alpha=.1)\n",
        "\n",
        "                xyT1 = list()\n",
        "                xyT2 = list()\n",
        "                for iPolygon in t1:\n",
        "                    xyT1.append([list(iXY) if minX < iXY[0] < maxX else [minX, iXY[1]] if minX > iXY[0] else [maxX, iXY[1]] for iXY in iPolygon.get_xy()])\n",
        "\n",
        "                for iPolygon in t2:\n",
        "                    xyT2.append([list(iXY) if minX < iXY[0] < maxX else [minX, iXY[1]] if minX > iXY[0] else [maxX, iXY[1]] for iXY in iPolygon.get_xy()])\n",
        "\n",
        "                areaT1.append(getTotalAreaFromOneEvent(xyT1))\n",
        "                areaT2.append(getTotalAreaFromOneEvent(xyT2))\n",
        "\n",
        "    return areaT1, areaT2\n",
        "\n",
        "\n",
        "def xComplimentPostHalf(x, period):\n",
        "    if period == 2:\n",
        "        x = 120-x\n",
        "    return x\n",
        "\n",
        "def setMinXMaxX(minX, maxX, x, lastPlayerAsBoundary):\n",
        "    if lastPlayerAsBoundary is True:\n",
        "        if minX > x:\n",
        "            minX = x\n",
        "        if maxX < x:\n",
        "            maxX = x\n",
        "        return minX, maxX\n",
        "    else:\n",
        "        return minX, maxX\n",
        "\n",
        "def getTotalAreaFromOneEvent(xyT):\n",
        "    areaPolygon = 0\n",
        "    for iPolygon in xyT:\n",
        "        areaPolygon += shapelyPolygon(iPolygon).area\n",
        "    return areaPolygon\n"
      ],
      "metadata": {
        "id": "ZJkDEjne6y9S"
      },
      "execution_count": null,
      "outputs": []
    },
    {
      "cell_type": "code",
      "source": [
        "areaT1, areaT2 = getAreasForEachEvent(matchdata, lastPlayerAsBoundary=False)"
      ],
      "metadata": {
        "id": "KDeprzFRPdNo"
      },
      "execution_count": null,
      "outputs": []
    },
    {
      "cell_type": "code",
      "source": [
        "# Some statistics on areaT1 and areaT2\n",
        "def fitNormalDist(areaT, binsH=25):\n",
        "    mu, std = norm.fit(areaT)\n",
        "    plt.hist(areaT, bins=binsH, density=True, alpha=0.6, color='g')\n",
        "    xmin, xmax = plt.xlim()\n",
        "    x = np.linspace(xmin, xmax, 100)\n",
        "    p = norm.pdf(x, mu, std)\n",
        "    plt.plot(x, p, 'k', linewidth=2)\n",
        "    title = \"Fit results: mu = %.2f,  std = %.2f\" % (mu, std)\n",
        "    plt.title(title)\n",
        "    plt.show()"
      ],
      "metadata": {
        "id": "vQh2P4QsTspL"
      },
      "execution_count": null,
      "outputs": []
    },
    {
      "cell_type": "code",
      "source": [
        "# Last player as boundary = True\n",
        "fitNormalDist(areaT1)\n",
        "fitNormalDist(areaT2)"
      ],
      "metadata": {
        "colab": {
          "base_uri": "https://localhost:8080/",
          "height": 545
        },
        "id": "YB8oToYlW3AZ",
        "outputId": "2e48611f-204d-422c-edc1-f468cf3e8c19"
      },
      "execution_count": null,
      "outputs": [
        {
          "output_type": "display_data",
          "data": {
            "text/plain": [
              "<Figure size 432x288 with 1 Axes>"
            ],
            "image/png": "[encoded data removed]"
          },
          "metadata": {
            "needs_background": "light"
          }
        },
        {
          "output_type": "display_data",
          "data": {
            "text/plain": [
              "<Figure size 432x288 with 1 Axes>"
            ],
            "image/png": "[encoded data removed]"
          },
          "metadata": {
            "needs_background": "light"
          }
        }
      ]
    },
    {
      "cell_type": "code",
      "source": [
        "# Last player as boundary = False\n",
        "fitNormalDist(areaT1)\n",
        "fitNormalDist(areaT2)"
      ],
      "metadata": {
        "colab": {
          "base_uri": "https://localhost:8080/",
          "height": 545
        },
        "id": "3WTDQi-bclbX",
        "outputId": "4ff90240-67d9-4b05-b032-dbf57bcf0583"
      },
      "execution_count": null,
      "outputs": [
        {
          "output_type": "display_data",
          "data": {
            "text/plain": [
              "<Figure size 432x288 with 1 Axes>"
            ],
            "image/png": "[encoded data removed]"
          },
          "metadata": {
            "needs_background": "light"
          }
        },
        {
          "output_type": "display_data",
          "data": {
            "text/plain": [
              "<Figure size 432x288 with 1 Axes>"
            ],
            "image/png": "[encoded data removed]"
          },
          "metadata": {
            "needs_background": "light"
          }
        }
      ]
    },
    {
      "cell_type": "code",
      "source": [
        "#import seaborn as sns\n",
        "#sns.distplot(areaT1, fit=norm, kde=False, color='g', bins=25)"
      ],
      "metadata": {
        "id": "ArS7OG5tYZat"
      },
      "execution_count": null,
      "outputs": []
    },
    {
      "cell_type": "code",
      "source": [
        "# Method 2 - Defense at left and attack at right regardless of team\n",
        "for iEvent in matchdata.keys():\n",
        "    (fig,ax) = createPitch(120,80,'yards','gray')\n",
        "    if len(matchdata[iEvent]['eventLoc']) > 0:      \n",
        "        if matchdata[iEvent]['period']==1:\n",
        "            if matchdata[iEvent]['possession'] == 'home':\n",
        "                x = matchdata[iEvent]['eventLoc'][0]\n",
        "                y = matchdata[iEvent]['eventLoc'][1]\n",
        "                positionBall = plt.Circle((x,y),2,color=\"black\")\n",
        "                ax.add_patch(positionBall)\n",
        "\n",
        "                for i in range(len(matchdata[iEvent]['homeLoc'])):\n",
        "                    x=matchdata[iEvent]['homeLoc'][i][0]\n",
        "                    y=matchdata[iEvent]['homeLoc'][i][1]\n",
        "                    position = plt.Circle((x,y),2,color=\"red\")\n",
        "                    ax.add_patch(position)\n",
        "\n",
        "                for j in range(len(matchdata[iEvent]['awayLoc'])):\n",
        "                    x=matchdata[iEvent]['awayLoc'][j][0]\n",
        "                    y=matchdata[iEvent]['awayLoc'][j][1]\n",
        "                    position = plt.Circle((x,y),2,color=\"blue\")\n",
        "                    ax.add_patch(position)\n",
        "            else:\n",
        "                x = matchdata[iEvent]['eventLoc'][0]\n",
        "                y = matchdata[iEvent]['eventLoc'][1]\n",
        "                positionBall = plt.Circle((120-x,y),2,color=\"black\")\n",
        "                ax.add_patch(positionBall)\n",
        "\n",
        "                for i in range(len(matchdata[iEvent]['homeLoc'])):\n",
        "                    x=matchdata[iEvent]['homeLoc'][i][0]\n",
        "                    y=matchdata[iEvent]['homeLoc'][i][1]\n",
        "                    position = plt.Circle((120-x,y),2,color=\"red\")\n",
        "                    ax.add_patch(position)\n",
        "\n",
        "                for j in range(len(matchdata[iEvent]['awayLoc'])):\n",
        "                    x=matchdata[iEvent]['awayLoc'][j][0]\n",
        "                    y=matchdata[iEvent]['awayLoc'][j][1]\n",
        "                    position = plt.Circle((120-x,y),2,color=\"blue\")\n",
        "                    ax.add_patch(position)\n",
        "                \n",
        "        else:\n",
        "            if matchdata[iEvent]['possession'] == 'home':\n",
        "                x = matchdata[iEvent]['eventLoc'][0]\n",
        "                y = matchdata[iEvent]['eventLoc'][1]\n",
        "                positionBall = plt.Circle((120-x,y),2,color=\"black\")\n",
        "                ax.add_patch(positionBall)\n",
        "\n",
        "                for i in range(len(matchdata[iEvent]['homeLoc'])):\n",
        "                    x=matchdata[iEvent]['homeLoc'][i][0]\n",
        "                    y=matchdata[iEvent]['homeLoc'][i][1]\n",
        "                    position = plt.Circle((120-x,y),2,color=\"red\")\n",
        "                    ax.add_patch(position)\n",
        "\n",
        "                for j in range(len(matchdata[iEvent]['awayLoc'])):\n",
        "                    x=matchdata[iEvent]['awayLoc'][j][0]\n",
        "                    y=matchdata[iEvent]['awayLoc'][j][1]\n",
        "                    position = plt.Circle((120-x,y),2,color=\"blue\")\n",
        "                    ax.add_patch(position)\n",
        "            else:\n",
        "                x = matchdata[iEvent]['eventLoc'][0]\n",
        "                y = matchdata[iEvent]['eventLoc'][1]\n",
        "                positionBall = plt.Circle((x,y),2,color=\"black\")\n",
        "                ax.add_patch(positionBall)\n",
        "\n",
        "                for i in range(len(matchdata[iEvent]['homeLoc'])):\n",
        "                    x=matchdata[iEvent]['homeLoc'][i][0]\n",
        "                    y=matchdata[iEvent]['homeLoc'][i][1]\n",
        "                    position = plt.Circle((x,y),2,color=\"red\")\n",
        "                    ax.add_patch(position)\n",
        "\n",
        "                for j in range(len(matchdata[iEvent]['awayLoc'])):\n",
        "                    x=matchdata[iEvent]['awayLoc'][j][0]\n",
        "                    y=matchdata[iEvent]['awayLoc'][j][1]\n",
        "                    position = plt.Circle((x,y),2,color=\"blue\")\n",
        "                    ax.add_patch(position)\n",
        "\n",
        "    fig.set_size_inches(10, 7)\n",
        "    plt.show()\n"
      ],
      "metadata": {
        "id": "n21vnVnwfGWq"
      },
      "execution_count": null,
      "outputs": []
    },
    {
      "cell_type": "code",
      "source": [],
      "metadata": {
        "id": "mRBNl8DVTY61"
      },
      "execution_count": null,
      "outputs": []
    }
  ]
}