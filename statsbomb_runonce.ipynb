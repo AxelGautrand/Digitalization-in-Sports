{
  "nbformat": 4,
  "nbformat_minor": 0,
  "metadata": {
    "colab": {
      "provenance": [],
      "collapsed_sections": [],
      "authorship_tag": "ABX9TyM6JiPd6Qhjimd2VCPGFd7V",
      "include_colab_link": true
    },
    "kernelspec": {
      "name": "python3",
      "display_name": "Python 3"
    },
    "language_info": {
      "name": "python"
    }
  },
  "cells": [
    {
      "cell_type": "markdown",
      "metadata": {
        "id": "view-in-github",
        "colab_type": "text"
      },
      "source": [
        "<a href=\"https://colab.research.google.com/github/AxelGautrand/Digitalization-in-Sports/blob/main/statsbomb_runonce.ipynb\" target=\"_parent\"><img src=\"https://colab.research.google.com/assets/colab-badge.svg\" alt=\"Open In Colab\"/></a>"
      ]
    },
    {
      "cell_type": "code",
      "execution_count": 1,
      "metadata": {
        "colab": {
          "base_uri": "https://localhost:8080/"
        },
        "id": "5AG2izmOY8mO",
        "outputId": "e0e0e33a-eff3-482a-91fa-4455ea90d6a1"
      },
      "outputs": [
        {
          "output_type": "stream",
          "name": "stdout",
          "text": [
            "Mounted at /content/drive\n"
          ]
        }
      ],
      "source": [
        "from google.colab import drive\n",
        "drive.mount('/content/drive')"
      ]
    },
    {
      "cell_type": "code",
      "source": [
        "from IPython.display import clear_output"
      ],
      "metadata": {
        "id": "wEIVAW5NZ3Gw"
      },
      "execution_count": 2,
      "outputs": []
    },
    {
      "cell_type": "code",
      "source": [
        "# Uncomment these lines (only once)\n",
        "#%cd drive/My\\ Drive/DIS/Clone\n",
        "#!git clone https://github.com/statsbomb/open-data.git"
      ],
      "metadata": {
        "id": "dMME_WoHaEbv"
      },
      "execution_count": 3,
      "outputs": []
    },
    {
      "cell_type": "code",
      "source": [
        "!pip install statsbombpy\n",
        "clear_output()"
      ],
      "metadata": {
        "id": "uMcu2Q0AaHPH"
      },
      "execution_count": 4,
      "outputs": []
    },
    {
      "cell_type": "code",
      "source": [
        "dataset = \"/content/drive/My Drive/DIS/Colab/open-data/data/\""
      ],
      "metadata": {
        "id": "XmM3rsadaJm_"
      },
      "execution_count": 5,
      "outputs": []
    },
    {
      "cell_type": "code",
      "source": [
        "from statsbombpy import sb\n",
        "import pandas as pd\n",
        "import json\n",
        "import os"
      ],
      "metadata": {
        "id": "i1nBzwmbaL33"
      },
      "execution_count": 8,
      "outputs": []
    },
    {
      "cell_type": "code",
      "source": [
        "!pwd\n",
        "writePath = \"drive/My Drive/DIS/Write\"\n",
        "%cd $writePath"
      ],
      "metadata": {
        "colab": {
          "base_uri": "https://localhost:8080/"
        },
        "id": "NNANgHHFaNaf",
        "outputId": "508c59c9-dc68-4510-bf60-74da39c5b0ea"
      },
      "execution_count": 7,
      "outputs": [
        {
          "output_type": "stream",
          "name": "stdout",
          "text": [
            "/content\n",
            "/content/drive/My Drive/DIS/Write\n"
          ]
        }
      ]
    },
    {
      "cell_type": "code",
      "source": [
        "from statsbombpy import sb\n",
        "import json\n",
        "import os\n",
        "\n",
        "class CreateEvent360():\n",
        "    def __init__(self):\n",
        "        self.competitionId = 53\n",
        "        self.seasonId = 106\n",
        "        self.fmt = \"dict\"\n",
        "        self.matchInfo = self.get_all_matches_info()\n",
        "        self.matchId = list(self.matchInfo.keys())\n",
        "        self.matchEvents = dict(zip(self.matchId, list(map(self.get_all_events_from_match, self.matchId))))\n",
        "        self.matchFrames = dict(zip(self.matchId, list(map(self.get_all_360_frames_from_match, self.matchId))))\n",
        "        self.matchEventLocations = dict(zip(self.matchId, list(map(self.get_event_id_matching_360_events, self.matchId))))\n",
        "\n",
        "        for iMatchId in self.matchId:\n",
        "            self.fill_event_frame_location_details(iMatchId)\n",
        "            self.exportJson(iMatchId)\n",
        "\n",
        "\n",
        "    def get_all_matches_info(self):\n",
        "        return sb.matches(competition_id=self.competitionId, season_id=self.seasonId, fmt=self.fmt)\n",
        "\n",
        "    def get_all_events_from_match(self, matchId):\n",
        "        return sb.events(matchId, fmt=self.fmt)\n",
        "\n",
        "    def get_all_360_frames_from_match(self, matchId):\n",
        "        return sb.frames(matchId, fmt=self.fmt)\n",
        "\n",
        "    def get_event_id_matching_360_events(self, matchId):\n",
        "        eventsIds = [self.matchFrames[matchId][iEventIndex]['event_uuid'] for iEventIndex in\n",
        "                     range(len(self.matchFrames[matchId]))]\n",
        "        #return dict(zip(eventsIds, len(eventsIds) * [{'possession': None, 'eventLoc': None, 'homeLoc': list(), 'awayLoc': list()}]))\n",
        "        return {x: {'possession': None, 'eventLoc': None, 'homeLoc': list(), 'awayLoc': list()} for x in eventsIds}\n",
        "\n",
        "    def fill_event_frame_location_details(self, matchId):\n",
        "        for iEventIndex in range(len(self.matchFrames[matchId])):\n",
        "            iEvent = self.matchFrames[matchId][iEventIndex]['event_uuid']\n",
        "            if 'location' in self.matchEvents[matchId][iEvent].keys():\n",
        "                self.matchEventLocations[matchId][iEvent]['eventLoc'] = self.matchEvents[matchId][iEvent]['location']\n",
        "            possessionId = self.matchEvents[matchId][iEvent]['possession_team']['id']\n",
        "            if possessionId == self.matchInfo[matchId]['home_team']['home_team_id']:\n",
        "                possession = 'home'\n",
        "            else:\n",
        "                possession = 'away'\n",
        "            self.matchEventLocations[matchId][iEvent]['possession'] = possession\n",
        "            for iPlayer in self.matchFrames[matchId][iEventIndex]['freeze_frame']:\n",
        "                if possession == 'home':\n",
        "                    if iPlayer['teammate']:\n",
        "                        self.matchEventLocations[matchId][iEvent]['homeLoc'].append(iPlayer['location'])\n",
        "                    else:\n",
        "                        self.matchEventLocations[matchId][iEvent]['awayLoc'].append(iPlayer['location'])\n",
        "                elif possession == 'away':\n",
        "                    if iPlayer['teammate']:\n",
        "                        self.matchEventLocations[matchId][iEvent]['awayLoc'].append(iPlayer['location'])\n",
        "                    else:\n",
        "                        self.matchEventLocations[matchId][iEvent]['awayLoc'].append(iPlayer['location'])\n",
        "                        \n",
        "    def exportJson(self, matchId):\n",
        "          fileName = str(matchId) + '.json'\n",
        "          with open(fileName, 'w') as fh:\n",
        "              json.dump(self.matchEventLocations[matchId], fh)\n",
        "          fh.close()"
      ],
      "metadata": {
        "id": "02tzEmAYaSXo"
      },
      "execution_count": 9,
      "outputs": []
    },
    {
      "cell_type": "code",
      "source": [
        "event360 = CreateEvent360()"
      ],
      "metadata": {
        "colab": {
          "base_uri": "https://localhost:8080/"
        },
        "id": "7Wqpa0mPaY2n",
        "outputId": "02e94c67-11e3-4113-ed18-5d453ea6bfdd"
      },
      "execution_count": 10,
      "outputs": [
        {
          "output_type": "stream",
          "name": "stderr",
          "text": [
            "/usr/local/lib/python3.7/dist-packages/statsbombpy/api_client.py:20: NoAuthWarning: credentials were not supplied. open data access only\n",
            "  warnings.warn(\"credentials were not supplied. open data access only\", NoAuthWarning)\n"
          ]
        }
      ]
    },
    {
      "cell_type": "code",
      "source": [
        "def loadJson(matchId):\n",
        "    filename = str(matchId) + '.json'\n",
        "    with open(filename, 'r') as fh:\n",
        "        matchData = json.load(fh)\n",
        "    fh.close()\n",
        "    return matchData"
      ],
      "metadata": {
        "id": "sZy6e_1nacvH"
      },
      "execution_count": 11,
      "outputs": []
    },
    {
      "cell_type": "code",
      "source": [
        "matchdata = loadJson(3847567)"
      ],
      "metadata": {
        "id": "3eNbCLLQb6ZJ"
      },
      "execution_count": 12,
      "outputs": []
    },
    {
      "cell_type": "code",
      "source": [],
      "metadata": {
        "id": "PS07rbF_cLbH"
      },
      "execution_count": null,
      "outputs": []
    }
  ]
}